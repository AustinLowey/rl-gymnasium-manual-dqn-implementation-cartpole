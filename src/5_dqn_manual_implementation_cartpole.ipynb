{
 "cells": [
  {
   "cell_type": "code",
   "execution_count": 1,
   "metadata": {},
   "outputs": [],
   "source": [
    "from collections import deque\n",
    "import os\n",
    "import random\n",
    "\n",
    "import gymnasium as gym\n",
    "import matplotlib.pyplot as plt\n",
    "import numpy as np\n",
    "from tensorflow.keras.layers import Dense, InputLayer\n",
    "from tensorflow.keras.models import Sequential, clone_model, load_model\n",
    "from tensorflow.keras.optimizers import Adam"
   ]
  },
  {
   "cell_type": "code",
   "execution_count": 2,
   "metadata": {},
   "outputs": [
    {
     "name": "stdout",
     "output_type": "stream",
     "text": [
      "num_observations=4 | num_actions=2\n"
     ]
    }
   ],
   "source": [
    "### Set up the environment ###\n",
    "\n",
    "env = gym.make('CartPole-v1')\n",
    "num_observations = env.observation_space.shape[0]\n",
    "num_actions = env.action_space.n\n",
    "print(f'{num_observations=} | {num_actions=}')\n",
    "\n",
    "# Observation space is nd.array([cart pos., cart vel., pole angle, pole angular vel.])\n",
    "# Action space is: 0, 1 = left, right"
   ]
  },
  {
   "cell_type": "code",
   "execution_count": 3,
   "metadata": {},
   "outputs": [],
   "source": [
    "### Set up the Neural Networks and Replay Buffer ###\n",
    "\n",
    "# Hyperparameters\n",
    "TOTAL_EPISODES = 1000\n",
    "MAX_EPSILON = 1.0\n",
    "EPSILON_REDUCE_RATE = 0.995\n",
    "GAMMA = 0.95\n",
    "\n",
    "LEARNING_RATE = 0.001\n",
    "HIDDEN_LAYER_ACTIVATION = 'relu'\n",
    "HIDDEN_LAYER1_SIZE = 16\n",
    "HIDDEN_LAYER2_SIZE = 32\n",
    "\n",
    "REPLAY_BUFFER_MAX_SIZE = 20000\n",
    "TARGET_UPDATE_EPISODE_FREQ = 10 # Alternatively could update based on a step frequency, perhaps every 1-10k steps\n",
    "BATCH_SIZE = 32\n",
    "\n",
    "# Build and compile the Q-network\n",
    "q_model = Sequential()\n",
    "q_model.add(InputLayer(shape=(1, num_observations)))\n",
    "q_model.add(Dense(HIDDEN_LAYER1_SIZE, activation=HIDDEN_LAYER_ACTIVATION))\n",
    "q_model.add(Dense(HIDDEN_LAYER2_SIZE, activation=HIDDEN_LAYER_ACTIVATION))\n",
    "q_model.add(Dense(num_actions, activation='linear'))\n",
    "\n",
    "q_model.compile(loss='mse', optimizer=Adam(learning_rate=LEARNING_RATE))\n",
    "\n",
    "# Build the target network\n",
    "target_model = clone_model(q_model)\n",
    "\n",
    "# Replay Buffer\n",
    "replay_buffer = deque(maxlen=REPLAY_BUFFER_MAX_SIZE)"
   ]
  },
  {
   "cell_type": "code",
   "execution_count": 4,
   "metadata": {},
   "outputs": [],
   "source": [
    "### Define core functions (epsilon greedy, replay buffer, updating target weights) that will be used during the actual training loop ###\n",
    "\n",
    "def select_action_epsilon_greedy(q_model, epsilon, observation):\n",
    "    \"\"\"Choose either best action or random action based on random number [0,1) vs. current epsilon.\"\"\"\n",
    "\n",
    "    if np.random.random() > epsilon: # Exploit\n",
    "        observation_batch_dim = observation.copy()[np.newaxis, ...] # Add a batch dim to make a prediction\n",
    "        prediction = q_model.predict(observation_batch_dim, verbose=0) # Ex: [0.3, 0.7] for left, right\n",
    "        action = np.argmax(prediction)\n",
    "    else: # Explore\n",
    "        return env.action_space.sample()\n",
    "    return action\n",
    "\n",
    "\n",
    "def replay(replay_buffer, batch_size, q_model, target_model):\n",
    "    \"\"\"\n",
    "    Samples a batch of experiences from the replay buffer and performs a training step \n",
    "    to update the Q-network.\n",
    "\n",
    "    Args:\n",
    "        replay_buffer (list): The replay buffer, a list containing experience tuples\n",
    "            (state, action, reward, new_state, done) with the following types:\n",
    "                state: np array\n",
    "                action: int\n",
    "                reward: float\n",
    "                new_state: np array\n",
    "                done: bool\n",
    "        batch_size (int): The number of experiences to sample from the buffer.\n",
    "        q_model (keras.Model): The main Q-network being trained.\n",
    "        target_model (keras.Model): The target Q-network used for calculating target Q-values.\n",
    "    \"\"\"\n",
    "    \n",
    "    # Don't do anything if buffer isn't large enough yet\n",
    "    if len(replay_buffer) < batch_size:\n",
    "        return\n",
    "    \n",
    "    # Take a random sample from the buffer with size batch_size and convert to separate lists\n",
    "    samples = random.sample(replay_buffer, batch_size) # List of experience tuples\n",
    "    zipped_samples = list(zip(*samples))\n",
    "    states, actions, rewards, new_states, dones = zipped_samples\n",
    "\n",
    "    # For all samples, predict:\n",
    "    # 1) Target-network Q-values for current states\n",
    "    # 2) Q-Network Q-Values for new states\n",
    "    target_q_values = target_model.predict(np.array(states), verbose=0)\n",
    "    new_state_q_values = q_model.predict(np.array(new_states), verbose=0)\n",
    "    \n",
    "    # Max Q-value for each sample\n",
    "    max_q_values_new_state = np.max(new_state_q_values, axis=2, keepdims=True)\n",
    "    \n",
    "    # Calculate the target Q-values using vectorized operations\n",
    "    target_q_values[np.arange(batch_size), 0, actions] = (\n",
    "        rewards + (1 - np.array(dones)) * GAMMA * max_q_values_new_state.squeeze()\n",
    "    )\n",
    "\n",
    "    # Fit the model based on the states and the updated targets for 1 epoch\n",
    "    q_model.fit(np.array(states), np.array(target_q_values), epochs=1, verbose=0)\n",
    "\n",
    "\n",
    "def update_target_model(episode, target_update_freq, q_model, target_model):\n",
    "    \"\"\"Updates target network every 'target_update_freq' number of episodes.\"\"\"\n",
    "\n",
    "    if episode > 0 and episode % target_update_freq == 0:\n",
    "        target_model.set_weights(q_model.get_weights())\n"
   ]
  },
  {
   "cell_type": "code",
   "execution_count": 5,
   "metadata": {},
   "outputs": [
    {
     "name": "stdout",
     "output_type": "stream",
     "text": [
      "episode=25 | avg_score_prev_25_episodes=18\n",
      "episode=50 | avg_score_prev_25_episodes=19\n",
      "episode=75 | avg_score_prev_25_episodes=30\n",
      "episode=100 | avg_score_prev_25_episodes=67\n",
      "episode=125 | avg_score_prev_25_episodes=82\n",
      "episode=150 | avg_score_prev_25_episodes=108\n",
      "episode=175 | avg_score_prev_25_episodes=180\n",
      "episode=200 | avg_score_prev_25_episodes=186\n",
      "episode=225 | avg_score_prev_25_episodes=231\n",
      "episode=250 | avg_score_prev_25_episodes=258\n",
      "episode=275 | avg_score_prev_25_episodes=284\n",
      "episode=300 | avg_score_prev_25_episodes=300\n",
      "episode=325 | avg_score_prev_25_episodes=336\n",
      "episode=350 | avg_score_prev_25_episodes=436\n",
      "episode=375 | avg_score_prev_25_episodes=470\n",
      "episode=400 | avg_score_prev_25_episodes=485\n",
      "episode=425 | avg_score_prev_25_episodes=549\n"
     ]
    },
    {
     "ename": "KeyboardInterrupt",
     "evalue": "",
     "output_type": "error",
     "traceback": [
      "\u001b[1;31m---------------------------------------------------------------------------\u001b[0m",
      "\u001b[1;31mKeyboardInterrupt\u001b[0m                         Traceback (most recent call last)",
      "Cell \u001b[1;32mIn[5], line 19\u001b[0m\n\u001b[0;32m     16\u001b[0m \u001b[38;5;66;03m# Play the game until game over\u001b[39;00m\n\u001b[0;32m     17\u001b[0m \u001b[38;5;28;01mwhile\u001b[39;00m \u001b[38;5;129;01mnot\u001b[39;00m done:\n\u001b[0;32m     18\u001b[0m     \u001b[38;5;66;03m# Perform action and get the associated reward and new state\u001b[39;00m\n\u001b[1;32m---> 19\u001b[0m     action \u001b[38;5;241m=\u001b[39m \u001b[43mselect_action_epsilon_greedy\u001b[49m\u001b[43m(\u001b[49m\u001b[43mq_model\u001b[49m\u001b[43m,\u001b[49m\u001b[43m \u001b[49m\u001b[43mepsilon\u001b[49m\u001b[43m,\u001b[49m\u001b[43m \u001b[49m\u001b[43mstate\u001b[49m\u001b[43m)\u001b[49m\n\u001b[0;32m     20\u001b[0m     new_state, reward, done, truncated, info \u001b[38;5;241m=\u001b[39m env\u001b[38;5;241m.\u001b[39mstep(action)\n\u001b[0;32m     21\u001b[0m     new_state \u001b[38;5;241m=\u001b[39m new_state\u001b[38;5;241m.\u001b[39mreshape([\u001b[38;5;241m1\u001b[39m, num_observations])\n",
      "Cell \u001b[1;32mIn[4], line 9\u001b[0m, in \u001b[0;36mselect_action_epsilon_greedy\u001b[1;34m(q_model, epsilon, observation)\u001b[0m\n\u001b[0;32m      7\u001b[0m     observation_batch_dim \u001b[38;5;241m=\u001b[39m observation\u001b[38;5;241m.\u001b[39mcopy()[np\u001b[38;5;241m.\u001b[39mnewaxis, \u001b[38;5;241m.\u001b[39m\u001b[38;5;241m.\u001b[39m\u001b[38;5;241m.\u001b[39m] \u001b[38;5;66;03m# Add a batch dim to make a prediction\u001b[39;00m\n\u001b[0;32m      8\u001b[0m     prediction \u001b[38;5;241m=\u001b[39m q_model\u001b[38;5;241m.\u001b[39mpredict(observation_batch_dim, verbose\u001b[38;5;241m=\u001b[39m\u001b[38;5;241m0\u001b[39m) \u001b[38;5;66;03m# Ex: [0.3, 0.7] for left, right\u001b[39;00m\n\u001b[1;32m----> 9\u001b[0m     action \u001b[38;5;241m=\u001b[39m \u001b[43mnp\u001b[49m\u001b[38;5;241;43m.\u001b[39;49m\u001b[43margmax\u001b[49m\u001b[43m(\u001b[49m\u001b[43mprediction\u001b[49m\u001b[43m)\u001b[49m\n\u001b[0;32m     10\u001b[0m \u001b[38;5;28;01melse\u001b[39;00m: \u001b[38;5;66;03m# Explore\u001b[39;00m\n\u001b[0;32m     11\u001b[0m     \u001b[38;5;28;01mreturn\u001b[39;00m env\u001b[38;5;241m.\u001b[39maction_space\u001b[38;5;241m.\u001b[39msample()\n",
      "File \u001b[1;32mc:\\Users\\alowe\\AppData\\Local\\Programs\\Python\\Python312\\Lib\\site-packages\\numpy\\core\\fromnumeric.py:1136\u001b[0m, in \u001b[0;36m_argmax_dispatcher\u001b[1;34m(a, axis, out, keepdims)\u001b[0m\n\u001b[0;32m   1027\u001b[0m \u001b[38;5;250m    \u001b[39m\u001b[38;5;124;03m\"\"\"\u001b[39;00m\n\u001b[0;32m   1028\u001b[0m \u001b[38;5;124;03m    Returns the indices that would sort an array.\u001b[39;00m\n\u001b[0;32m   1029\u001b[0m \n\u001b[1;32m   (...)\u001b[0m\n\u001b[0;32m   1131\u001b[0m \n\u001b[0;32m   1132\u001b[0m \u001b[38;5;124;03m    \"\"\"\u001b[39;00m\n\u001b[0;32m   1133\u001b[0m     \u001b[38;5;28;01mreturn\u001b[39;00m _wrapfunc(a, \u001b[38;5;124m'\u001b[39m\u001b[38;5;124margsort\u001b[39m\u001b[38;5;124m'\u001b[39m, axis\u001b[38;5;241m=\u001b[39maxis, kind\u001b[38;5;241m=\u001b[39mkind, order\u001b[38;5;241m=\u001b[39morder)\n\u001b[1;32m-> 1136\u001b[0m \u001b[38;5;28;01mdef\u001b[39;00m \u001b[38;5;21m_argmax_dispatcher\u001b[39m(a, axis\u001b[38;5;241m=\u001b[39m\u001b[38;5;28;01mNone\u001b[39;00m, out\u001b[38;5;241m=\u001b[39m\u001b[38;5;28;01mNone\u001b[39;00m, \u001b[38;5;241m*\u001b[39m, keepdims\u001b[38;5;241m=\u001b[39mnp\u001b[38;5;241m.\u001b[39m_NoValue):\n\u001b[0;32m   1137\u001b[0m     \u001b[38;5;28;01mreturn\u001b[39;00m (a, out)\n\u001b[0;32m   1140\u001b[0m \u001b[38;5;129m@array_function_dispatch\u001b[39m(_argmax_dispatcher)\n\u001b[0;32m   1141\u001b[0m \u001b[38;5;28;01mdef\u001b[39;00m \u001b[38;5;21margmax\u001b[39m(a, axis\u001b[38;5;241m=\u001b[39m\u001b[38;5;28;01mNone\u001b[39;00m, out\u001b[38;5;241m=\u001b[39m\u001b[38;5;28;01mNone\u001b[39;00m, \u001b[38;5;241m*\u001b[39m, keepdims\u001b[38;5;241m=\u001b[39mnp\u001b[38;5;241m.\u001b[39m_NoValue):\n",
      "\u001b[1;31mKeyboardInterrupt\u001b[0m: "
     ]
    }
   ],
   "source": [
    "### Execute the training loop ###\n",
    "\n",
    "env = gym.make('CartPole-v1')\n",
    "epsilon = MAX_EPSILON\n",
    "episode_rewards = []\n",
    "track_progress_interval = 25 # Print performance (# of steps) every _ episodes\n",
    "\n",
    "for episode in range(TOTAL_EPISODES):\n",
    "\n",
    "    # Reset the environment and the done variables\n",
    "    state, info = env.reset()\n",
    "    state = state.reshape([1, num_observations])\n",
    "    done = False\n",
    "    step = 0\n",
    "\n",
    "    # Play the game until game over\n",
    "    while not done:\n",
    "        # Perform action and get the associated reward and new state\n",
    "        action = select_action_epsilon_greedy(q_model, epsilon, state)\n",
    "        new_state, reward, done, truncated, info = env.step(action)\n",
    "        new_state = new_state.reshape([1, num_observations])\n",
    "\n",
    "        # Add new experience tuple to replay buffer\n",
    "        experience = (state, action, reward, new_state, done)\n",
    "        replay_buffer.append(experience)\n",
    "\n",
    "        # Get sample from replay buffer and perform a Q-network training step update\n",
    "        replay(replay_buffer, BATCH_SIZE, q_model, target_model)\n",
    "\n",
    "        # Track episode total step count, and set the new state for next loop\n",
    "        step += 1\n",
    "        state = new_state\n",
    "\n",
    "    # Decay epsilon after episode completion\n",
    "    epsilon *= EPSILON_REDUCE_RATE\n",
    "\n",
    "    # Update target network periodically\n",
    "    update_target_model(episode, TARGET_UPDATE_EPISODE_FREQ, q_model, target_model)\n",
    "    \n",
    "    # Tracking performance across training\n",
    "    episode_rewards.append(step)\n",
    "    if episode % track_progress_interval == 0 and episode != 0:\n",
    "        avg_score_prev_25_episodes = int(np.mean(episode_rewards[episode - track_progress_interval:]))\n",
    "        print(f'{episode=} | {avg_score_prev_25_episodes=}')\n",
    "\n",
    "env.close()"
   ]
  },
  {
   "cell_type": "code",
   "execution_count": 10,
   "metadata": {},
   "outputs": [
    {
     "name": "stdout",
     "output_type": "stream",
     "text": [
      "episodes_completed=438 | avg_score_prev_25_episodes=549 | max(episode_rewards)=1139 | epsilon=0.11130363979080501\n"
     ]
    },
    {
     "data": {
      "image/png": "[encoded data removed]",
      "text/plain": [
       "<Figure size 640x480 with 1 Axes>"
      ]
     },
     "metadata": {},
     "output_type": "display_data"
    }
   ],
   "source": [
    "### Plot the episode rewards and training results ###\n",
    "\n",
    "# Performance on the last 25 episodes trained\n",
    "episodes_completed = len(episode_rewards)\n",
    "print(f'{episodes_completed=} | {avg_score_prev_25_episodes=} | {max(episode_rewards)=} | {epsilon=}')\n",
    "\n",
    "# Scatter plot of reward for each episode\n",
    "plt.scatter(range(len(episode_rewards)), episode_rewards, s=1)\n",
    "plt.xlabel('Episode')\n",
    "plt.ylabel('Reward')\n",
    "plt.ylim(0, 1200)\n",
    "plt.axhline(y=195, color='r', linestyle='--', label='Win Threshold (195 Steps)')\n",
    "plt.title('Rewards per Episode')\n",
    "plt.legend()\n",
    "plt.show()"
   ]
  },
  {
   "cell_type": "code",
   "execution_count": 11,
   "metadata": {},
   "outputs": [
    {
     "name": "stdout",
     "output_type": "stream",
     "text": [
      "Q-network model/policy saved to models\\5_dqn_manual_implementation_cartpole.keras\n"
     ]
    }
   ],
   "source": [
    "### Save the model ###\n",
    "\n",
    "# Create directory if it DNE yet\n",
    "save_dir = os.path.join('models')\n",
    "os.makedirs(save_dir, exist_ok=True)\n",
    "\n",
    "# Save the model\n",
    "model_file_name = '5_dqn_manual_implementation_cartpole.keras'\n",
    "full_model_path = os.path.join(save_dir, model_file_name)\n",
    "q_model.save(full_model_path)\n",
    "print(f'Q-network model/policy saved to {full_model_path}')"
   ]
  },
  {
   "cell_type": "markdown",
   "metadata": {},
   "source": [
    "### Model Testing and Utilization\n",
    "CartPole problem is considered solved once agent wins (stay upright for 195+ steps) for 100 consecutive trials."
   ]
  },
  {
   "cell_type": "code",
   "execution_count": 1,
   "metadata": {},
   "outputs": [
    {
     "name": "stdout",
     "output_type": "stream",
     "text": [
      "Q-network model/policy loaded successfully from models\\5_dqn_manual_implementation_cartpole.keras\n",
      "Progress: 10 trials complete.\n",
      "Progress: 20 trials complete.\n",
      "Progress: 30 trials complete.\n",
      "Progress: 40 trials complete.\n",
      "Progress: 50 trials complete.\n",
      "Progress: 60 trials complete.\n",
      "Progress: 70 trials complete.\n",
      "Progress: 80 trials complete.\n",
      "Progress: 90 trials complete.\n",
      "Progress: 100 trials complete.\n",
      "Progress: 100 trials complete.\n"
     ]
    }
   ],
   "source": [
    "### Testing + utilization of the trained policy ###\n",
    "\n",
    "# Imports (for if running this single cell apart from the rest of the notebook)\n",
    "import os\n",
    "\n",
    "import gymnasium as gym\n",
    "import matplotlib.pyplot as plt\n",
    "import numpy as np\n",
    "from tensorflow.keras.models import load_model\n",
    "\n",
    "# Load the model\n",
    "full_model_path = os.path.join('models', '5_dqn_manual_implementation_cartpole.keras')\n",
    "q_model = load_model(full_model_path)\n",
    "print(f'Q-network model/policy loaded successfully from {full_model_path}')\n",
    "\n",
    "# Define trials - CartPole problem is considered solved once agent wins (stay upright for 195+ steps) for 100 consecutive trials.\n",
    "env = gym.make('CartPole-v1')\n",
    "num_observations = env.observation_space.shape[0]\n",
    "NUM_TEST_TRIALS = 100\n",
    "trial_cutoff_step_limit = 5000\n",
    "trial_steps = []\n",
    "\n",
    "for trial in range(NUM_TEST_TRIALS):\n",
    "\n",
    "    # Reset environment for new trial\n",
    "    state, info = env.reset()\n",
    "    state = state.reshape([1, num_observations])\n",
    "    done = False\n",
    "    step = 0\n",
    "\n",
    "    # Play the game using the policy\n",
    "    while not done and step < trial_cutoff_step_limit:\n",
    "        state = state[np.newaxis, ...] # Add batch dim\n",
    "        prediction = q_model.predict(state, verbose=0)\n",
    "        action = np.argmax(prediction)\n",
    "        state, reward, done, truncated, info = env.step(action)\n",
    "        state = state.reshape([1, num_observations])\n",
    "        step += 1\n",
    "\n",
    "    # Update results tracking for the completed trial\n",
    "    trial_steps.append(step)\n",
    "\n",
    "    if trial % 10 == 9:\n",
    "        print(f'Progress: {trial + 1} trials complete.')\n",
    "\n",
    "env.close()\n",
    "\n",
    "print(f'Progress: {NUM_TEST_TRIALS} trials complete.')"
   ]
  },
  {
   "cell_type": "code",
   "execution_count": 25,
   "metadata": {},
   "outputs": [
    {
     "name": "stdout",
     "output_type": "stream",
     "text": [
      "100 trials completed with 100 wins (i.e., >= 195 steps).\n",
      "Average steps = 1312. Note: 9 trials terminated early at 5000 steps.\n",
      "Median steps = 808\n",
      "Minimum steps = 254\n",
      "Maximum steps = 5000 (x9)\n"
     ]
    },
    {
     "data": {
      "image/png": "[encoded data removed]",
      "text/plain": [
       "<Figure size 640x480 with 1 Axes>"
      ]
     },
     "metadata": {},
     "output_type": "display_data"
    },
    {
     "data": {
      "image/png": "[encoded data removed]",
      "text/plain": [
       "<Figure size 640x480 with 1 Axes>"
      ]
     },
     "metadata": {},
     "output_type": "display_data"
    }
   ],
   "source": [
    "### Evaluating the testing results from the above cell's trials ###\n",
    "\n",
    "# Number of wins\n",
    "trial_steps = np.array(trial_steps)\n",
    "wins = np.where(trial_steps >= 195, 1, 0)  # 1 for win, 0 for loss\n",
    "num_wins = np.sum(wins)\n",
    "trials_terminated_early = np.where(trial_steps == trial_cutoff_step_limit, 1, 0)\n",
    "num_trials_terminated_early = np.sum(trials_terminated_early)\n",
    "print(f'{len(trial_steps)} trials completed with {num_wins} wins (i.e., >= 195 steps).')\n",
    "\n",
    "# Other metrics\n",
    "print(f\"Average steps = {(np.mean(trial_steps)):.0f}. Note: {num_trials_terminated_early} trials terminated early at {trial_cutoff_step_limit} steps.\")\n",
    "print(f\"Median steps = {np.median(trial_steps):.0f}\")\n",
    "print(f\"Minimum steps = {np.min(trial_steps)}\")\n",
    "print(f\"Maximum steps = {np.max(trial_steps)} (x{num_trials_terminated_early})\")\n",
    "\n",
    "# Plot trial performances as scatter plot\n",
    "plt.scatter(range(len(trial_steps)), trial_steps, s=1)\n",
    "plt.xlabel('Trial')\n",
    "plt.ylabel('Reward')\n",
    "# plt.ylim(0, 5000)\n",
    "plt.axhline(y=195, color='r', linestyle='--', label='Win Threshold (195 Steps)')\n",
    "plt.title('Rewards per Trial')\n",
    "plt.legend(bbox_to_anchor=(0, 0.95), loc='upper left') \n",
    "plt.show()\n",
    "\n",
    "# Plot trial performances as histogram\n",
    "plt.hist(trial_steps, bins=100) \n",
    "plt.xlabel('Steps')\n",
    "plt.xticks((195, 1000, 2000, 3000, 4000, 5000))\n",
    "plt.ylabel('Frequency')\n",
    "plt.title('Distribution of Trial Steps')\n",
    "plt.show()"
   ]
  },
  {
   "cell_type": "code",
   "execution_count": 26,
   "metadata": {},
   "outputs": [
    {
     "name": "stdout",
     "output_type": "stream",
     "text": [
      "[5000  530  323  293 5000 5000  288  287  279  826  291 1297  499  951\n",
      " 1169 1601  805 1601  806  736  726  598  312 2469 1685  750  609  984\n",
      " 1045 1201 2049  551  330  268  731  308  271 1223  318 1193  295  821\n",
      "  645  804 1274 3729  513 3295  329  292 1629  523  849 1624 1083 1146\n",
      " 2812  312  887 4720  877 1827  307 5000  292  293  817  254  920  671\n",
      "  298  536 5000  338  918  884  968  810  657  972  676 1015 5000  315\n",
      " 4370 1336 1752 5000 5000  264  328  341  816 5000  381 2668  316  653\n",
      "  287  300]\n"
     ]
    }
   ],
   "source": [
    "print(trial_steps)"
   ]
  },
  {
   "cell_type": "code",
   "execution_count": 24,
   "metadata": {},
   "outputs": [
    {
     "name": "stdout",
     "output_type": "stream",
     "text": [
      "Q-network model/policy loaded successfully from models\\5_dqn_manual_implementation_cartpole.keras\n",
      "CartPole agent completed 1673 steps during this visualization.\n"
     ]
    }
   ],
   "source": [
    "### Visualization of the trained policy ###\n",
    "\n",
    "# Imports (for if running this single cell apart from the rest of the notebook)\n",
    "import os\n",
    "\n",
    "import gymnasium as gym\n",
    "import numpy as np\n",
    "from tensorflow.keras.models import load_model\n",
    "\n",
    "# Load the model\n",
    "full_model_path = os.path.join('models', '5_dqn_manual_implementation_cartpole.keras')\n",
    "q_model = load_model(full_model_path)\n",
    "print(f'Q-network model/policy loaded successfully from {full_model_path}')\n",
    "\n",
    "# Define env with render_mode='human' for visualization\n",
    "env = gym.make('CartPole-v1', render_mode='human')\n",
    "num_observations = env.observation_space.shape[0]\n",
    "trial_cutoff_step_limit = 5000 # Terminate if trial goes on this long\n",
    "\n",
    "# Reset environment\n",
    "state, info = env.reset()\n",
    "state = state.reshape([1, num_observations])\n",
    "done = False\n",
    "step = 0\n",
    "\n",
    "# Play the game using the policy\n",
    "while not done and step < trial_cutoff_step_limit:\n",
    "    env.render()\n",
    "    state = state[np.newaxis, ...] # Add batch dim\n",
    "    prediction = q_model.predict(state, verbose=0)\n",
    "    action = np.argmax(prediction)\n",
    "    state, reward, done, truncated, info = env.step(action)\n",
    "    state = state.reshape([1, num_observations])\n",
    "    step += 1\n",
    "\n",
    "env.close()\n",
    "\n",
    "print(f'CartPole agent completed {step} steps during this visualization.')"
   ]
  }
 ],
 "metadata": {
  "kernelspec": {
   "display_name": "Python 3",
   "language": "python",
   "name": "python3"
  },
  "language_info": {
   "codemirror_mode": {
    "name": "ipython",
    "version": 3
   },
   "file_extension": ".py",
   "mimetype": "text/x-python",
   "name": "python",
   "nbconvert_exporter": "python",
   "pygments_lexer": "ipython3",
   "version": "3.12.2"
  }
 },
 "nbformat": 4,
 "nbformat_minor": 2
}
